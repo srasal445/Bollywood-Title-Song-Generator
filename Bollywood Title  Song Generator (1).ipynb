{
 "cells": [
  {
   "cell_type": "code",
   "execution_count": 20,
   "id": "ad04b3af-c58e-4855-a49e-26c5aed51462",
   "metadata": {},
   "outputs": [
    {
     "name": "stdout",
     "output_type": "stream",
     "text": [
      "* Running on local URL:  http://127.0.0.1:7864\n",
      "* To create a public link, set `share=True` in `launch()`.\n"
     ]
    },
    {
     "data": {
      "text/html": [
       "<div><iframe src=\"http://127.0.0.1:7864/\" width=\"100%\" height=\"500\" allow=\"autoplay; camera; microphone; clipboard-read; clipboard-write;\" frameborder=\"0\" allowfullscreen></iframe></div>"
      ],
      "text/plain": [
       "<IPython.core.display.HTML object>"
      ]
     },
     "metadata": {},
     "output_type": "display_data"
    },
    {
     "data": {
      "text/plain": []
     },
     "execution_count": 20,
     "metadata": {},
     "output_type": "execute_result"
    }
   ],
   "source": [
    "import requests\n",
    "import json\n",
    "from gtts import gTTS\n",
    "import gradio as gr\n",
    "import tempfile\n",
    "\n",
    "OPENROUTER_API_KEY = \"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\"\n",
    "\n",
    "def generate_lyrics(title):\n",
    "    prompt = (\n",
    "        f\"एक बॉलीवुड गीत लिखिए जिसका शीर्षक '{title}' हो। \"\n",
    "        \"यह गीत रोमांटिक और भावनात्मक हो, जिसमें मुखड़ा और अंतरा शामिल हों।\"\n",
    "    )\n",
    "    response = requests.post(\n",
    "        \"https://openrouter.ai/api/v1/chat/completions\",\n",
    "        headers={\n",
    "            \"Authorization\": f\"Bearer {OPENROUTER_API_KEY}\",\n",
    "            \"Content-Type\": \"application/json\",\n",
    "        },\n",
    "        data=json.dumps({\n",
    "            \"model\": \"deepseek/deepseek-r1:free\",\n",
    "            \"messages\": [{\"role\": \"user\", \"content\": prompt}]\n",
    "        })\n",
    "    )\n",
    "\n",
    "    if response.status_code != 200:\n",
    "        # <—— now returns only the error string\n",
    "        return f\"Error {response.status_code}: {response.text}\"\n",
    "\n",
    "    lyrics = response.json()[\"choices\"][0][\"message\"][\"content\"]\n",
    "    return lyrics\n",
    "\n",
    "\n",
    "def lyrics_to_audio(lyrics):\n",
    "    tmp_file = tempfile.NamedTemporaryFile(delete=False, suffix=\".mp3\")\n",
    "    gTTS(text=lyrics, lang=\"hi\").save(tmp_file.name)\n",
    "    return tmp_file.name\n",
    "\n",
    "def generate_song_from_title(title):\n",
    "    lyrics = generate_lyrics(title)\n",
    "    if lyrics.startswith(\"Error:\"):\n",
    "        return lyrics, None\n",
    "    audio_path = lyrics_to_audio(lyrics)\n",
    "    return lyrics, audio_path\n",
    "\n",
    "with gr.Blocks() as demo:\n",
    "    gr.Markdown(\"## 🎵 Task Title to Bollywood Song + Audio Generator\")\n",
    "\n",
    "    title_input = gr.Textbox(label=\"Enter Task Title (Song Title)\", placeholder=\"e.g. प्यार की बारिश\", lines=1)\n",
    "    generate_btn = gr.Button(\"Generate Song\")\n",
    "\n",
    "    lyrics_output = gr.Textbox(label=\"Generated Song Lyrics\", lines=12)\n",
    "    audio_output = gr.Audio(label=\"Song Audio\", type=\"filepath\")\n",
    "\n",
    "    generate_btn.click(\n",
    "        fn=generate_song_from_title,\n",
    "        inputs=title_input,\n",
    "        outputs=[lyrics_output, audio_output]\n",
    "    )\n",
    "\n",
    "demo.launch()"
   ]
  },
  {
   "cell_type": "code",
   "execution_count": null,
   "id": "94ddcd22-dfec-4997-b31d-92450d3fb274",
   "metadata": {},
   "outputs": [],
   "source": []
  }
 ],
 "metadata": {
  "kernelspec": {
   "display_name": "Python 3 (ipykernel)",
   "language": "python",
   "name": "python3"
  },
  "language_info": {
   "codemirror_mode": {
    "name": "ipython",
    "version": 3
   },
   "file_extension": ".py",
   "mimetype": "text/x-python",
   "name": "python",
   "nbconvert_exporter": "python",
   "pygments_lexer": "ipython3",
   "version": "3.12.7"
  }
 },
 "nbformat": 4,
 "nbformat_minor": 5
}
